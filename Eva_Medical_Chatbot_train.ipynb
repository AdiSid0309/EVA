{
  "nbformat": 4,
  "nbformat_minor": 0,
  "metadata": {
    "colab": {
      "provenance": [],
      "gpuType": "T4"
    },
    "kernelspec": {
      "name": "python3",
      "display_name": "Python 3"
    },
    "language_info": {
      "name": "python"
    },
    "accelerator": "GPU"
  },
  "cells": [
    {
      "cell_type": "code",
      "execution_count": 1,
      "metadata": {
        "colab": {
          "base_uri": "https://localhost:8080/"
        },
        "id": "W564Hx71wNlr",
        "outputId": "f878b041-7428-46f5-babc-e98468dc6bda"
      },
      "outputs": [
        {
          "output_type": "stream",
          "name": "stdout",
          "text": [
            "Mounted at /content/drive/\n"
          ]
        }
      ],
      "source": [
        "from google.colab import drive\n",
        "drive.mount('/content/drive/')"
      ]
    },
    {
      "cell_type": "code",
      "source": [
        "from sklearn.feature_extraction.text import TfidfVectorizer\n",
        "from sklearn.metrics.pairwise import cosine_similarity\n",
        "import numpy as np\n",
        "import pandas as pd\n",
        "from sklearn.naive_bayes import MultinomialNB\n",
        "from sklearn.metrics import accuracy_score"
      ],
      "metadata": {
        "id": "b2jm_euvMb1P"
      },
      "execution_count": 2,
      "outputs": []
    },
    {
      "cell_type": "code",
      "source": [
        "data = pd.read_csv('/content/drive/MyDrive/medical.csv')"
      ],
      "metadata": {
        "id": "femsG9AuRV9n"
      },
      "execution_count": 3,
      "outputs": []
    },
    {
      "cell_type": "code",
      "source": [
        "patterns = data['patterns']\n",
        "answers = np.array(data['responses'])\n",
        "answers = [answer.lower() for answer in answers]"
      ],
      "metadata": {
        "id": "8AHG_fiLRe2M"
      },
      "execution_count": 4,
      "outputs": []
    },
    {
      "cell_type": "code",
      "source": [
        "answers"
      ],
      "metadata": {
        "colab": {
          "base_uri": "https://localhost:8080/"
        },
        "id": "vzyYexff8RGG",
        "outputId": "9480fec5-dcae-491c-f831-a1f443254692"
      },
      "execution_count": 5,
      "outputs": [
        {
          "output_type": "execute_result",
          "data": {
            "text/plain": [
              "['wash the cut properly to prevent infection and stop the bleeding by applying pressure for 1-2minutes until bleeding stops. apply petroleum jelly to make sure that the wound is moist for quick healing. finally cover the cut with a sterile bandage. pain relievers such as acetaminophen can be applied.',\n",
              " 'begin with washed hands.gently clean the area with cool to lukewarm water and mild soap. remove dirt or other particles from the wound using sterilized tweezers.for a mild scrape that’s not bleeding, leave the wound uncovered.if the wound is bleeding, use a clean cloth or bandage, and apply gentle pressure to the area to stop any bleeding.cover a wound that bled with a thin layer of topical antibiotic ointment, like bacitracin, or a sterile moisture barrier ointment, like aquaphor. cover it with a clean bandage or gauze. gently clean the wound and change the ointment and bandage once per day.watch the area for signs of infection, like pain or redness and swelling. see your doctor if you suspect infection.',\n",
              " 'remove any stingers immediately. some experts recommend scraping out the stinger with a credit card. applying ice to the site may provide some mild relief. apply ice for 20 minutes once every hour as needed. wrap the ice in a towel or keep a cloth between the ice and skin to keep from freezing the skin. taking an antihistamine such as diphenhydramine (benadryl) or a nonsedating one such as loratadine (claritin) will help with itching and swelling. take acetaminophen (tylenol) or ibuprofen (motrin)for pain relief as needed. wash the sting site with soap and water. placing hydrocortisone cream on the sting can help relieve redness, itching, and swelling.',\n",
              " '1. soak it in epsom salts. dissolve a cup of the salts into a warm bath and soak whatever part of the body has the splinter. failing that, you can also put some of the salts onto a bandage pad and leave it covered for a day; this will eventually help bring the splinter to the surface. 2. vinegar or oil. another simple way to draw out that stubborn splinter is to soak the affected area in oil (olive or corn) or white vinegar. just pour some in a bowl and soak the area for around 20 to 30 minutes,',\n",
              " \"use an ice pack or ice slush bath immediately for 15 to 20 minutes and repeat every two to three hours while you're awake. to help stop swelling, compress the ankle with an elastic bandage until the swelling stops. in most cases, pain relievers — such as ibuprofen (advil, motrin ib, others) or naproxen sodium (aleve, others) or acetaminophen (tylenol, others) are enough to manage the pain of a sprained ankle.\",\n",
              " 'rest,ice,compression and elevation can be used to cure strains. avoid using your muscle for a few days, especially if movement causes an increase in pain and also apply ice immediately after injuring your muscle. this will minimize swelling. don’t put ice directly on your skin. use an ice pack or wrap ice in a towel. to reduce swelling, wrap the affected area with an elastic bandage until swelling comes down.',\n",
              " 'to treat a fever at home: 1)drink plenty of fluids to stay hydrated. 2)dress in lightweight clothing. 3)use a light blanket if you feel chilled, until the chills end. 4)take acetaminophen (tylenol, others) or ibuprofen (advil, motrin ib, others). 5) get medical help if the fever lasts more than five days in a row.',\n",
              " 'when you’re stuffed up, focus on keeping your nasal passages and sinuses moist. to keep your nasal passages moist, you can: 1)use a humidifier or vaporizer. 2)drink lots of fluids. this will thin out your mucus, which could help prevent blocked sinuses. 3)place a warm, wet towel on your face. it may relieve discomfort and open your nasal passages.',\n",
              " '1) honey:- use honey to treat a cough, mix 2 teaspoons (tsp) with warm water or an herbal tea. drink this mixture once or twice a day. do not give honey to children under 1 year of age. 2) ginger:- brew up a soothing ginger tea by adding 20–40 grams (g) of fresh ginger slices to a cup of hot water. allow to steep for a few minutes before drinking. add honey or lemon juice to improve the taste and further soothe a cough. 3) fluids:- staying hydrated is vital for those with a cough or cold. research indicates that drinking liquids at room temperature can alleviate a cough, runny nose, and sneezing.',\n",
              " '1) make sure you get plenty of rest and drink a lot of fluids. 2)inhale steam,run hot water in a sink.drape a towel over you to trap the steam, and have the person lean over the sink with the water running. tell him to breathe deeply through his mouth and nose for 5 to 10 minutes. repeat several times a day. 3)have him sip chicken broth or warm tea with honey. don’t give honey to a child under 12 months of age.',\n",
              " '1) replenish body fluids 2)do not take antidiarrheal drugs or laxatives or pain medication, unless specified by a medical professional.3)taking antacids may help, per recommendation of a healthcare professional. 4)if prone to frequent heartburns, seek medical help. 5)taking meals that are not spicy regularly, can relieve ulcer pains. 6)seek medical help, if conditions persist or continue to worsen',\n",
              " \"1)hydrocortisone cream. 2)ointments like calamine lotion. 3)antihistamines. 4)cold compresses. 5)oatmeal baths. 6)talk to your doctor about what's best for your specific rash.\",\n",
              " '1)provide clear fluids to sip, such as water, broth, or fruit juice diluted with water. 2)serve bland foods, such as saltine crackers, plain bread, dry toast, rice, gelatin, or applesauce. 3)avoid spicy or greasy foods and caffeinated or carbonated drinks until 48 hours after all symptoms have gone away. ',\n",
              " '1)ice the bruise with an ice pack wrapped in a towel. 2)leave it in place for 10 to 20 minutes. 3)repeat several times a day for a day or two as needed. 4)compress the bruised area if it is swelling, using an elastic bandage. ',\n",
              " '1)to help decrease pain and swelling in a broken toe, elevate the foot, ice the injury, and stay off the foot. 2)depending on the severity of the fracture, the toe may need to be put back into place (reduced), and some compound toe fractures may require surgery.3) most broken toes heal without complications in six weeks.',\n",
              " \"1)encourage them to keep coughing to try to clear the blockage. 2)ask them to try to spit out the object if it's in their mouth. 3)if coughing doesn't work, start back blows and abdonominal thrusts\",\n",
              " '1)rinse the cut or wound with water and apply pressure with sterile gauze, a bandage, or a clean cloth. 2)if blood soaks through the bandage, place another bandage on top of the first and keep applying pressure. 3)raise the injured body part to slow bleeding. 4)when bleeding stops, cover the wound with a new, clean bandage.',\n",
              " '1)hydrating the body is essential for recovering from diarrhea.this causes the body to lose electrolytes such as sodium and chloride. 2)it is highly recommended to avoid dairy products, as they may worsen diarrhea in some people. 3)however, if diarrhea lasts for more than 2 days, seek medical advice to avoid complications.',\n",
              " \"1)get out of the cold. once you're in a warm space, remove wet clothes and wrap up in a warm blanket. 2) gently rewarm frostbitten areas. soak frostbitten fingers, toes or other extremities in warm water — 105 to 110 f (about 40 to 43 c). if a thermometer isn't available, test the water by placing an uninjured hand or elbow in it — it should feel very warm, not hot. soak for 20 to 30 minutes or until the skin becomes its normal color or loses its numbness. for the face or ears, apply a warm, wet washcloth. \",\n",
              " '1)move the person out of the heat and into a shady or air-conditioned place. lay the person down and elevate the legs and feet slightly. remove tight or heavy clothing. have the person drink cool water or other nonalcoholic beverage without caffeine ',\n",
              " \"1)cool the person's entire body by sponging or spraying cold water, and fan the person to help lower the person's body temperature. watch for signs of rapidly progressing heatstroke, such as seizure, unconsciousness for longer than a few seconds, and moderate to severe difficulty breathing. \",\n",
              " '1) wash the affected area with soap and water. apply a cold compress (such as a flannel or cloth cooled with cold water) or an ice pack to any swelling for at least 10 minutes. raise or elevate the affected area if possible, as this can help reduce swelling. ',\n",
              " '1) wash the affected area with soap and water. apply a cold compress (such as a flannel or cloth cooled with cold water) or an ice pack to any swelling for at least 10 minutes. raise or elevate the affected area if possible, as this can help reduce swelling ',\n",
              " '1) apply ice for 10 to 15 minutes every 1 hour for the first day and every 3 to 4 hours after that. use ice for the first 3 days. after 3 days, either heat or ice may be helpful if you still have pain. rest the pulled muscle for at least a day. ',\n",
              " '1) for minimal bleeding due to hemorrhoids or rectal fissures, physicians will usually direct home treatment with lots of water, ice packs and possibly over the counter ointments or suppositories to create movement in the bowels or to soften the stool. emergency treatment might include an iv in the case of dehydration. ',\n",
              " '1) cool the skin, 2) drink water to prevent dehydration., 3) take a pain reliever such as ibuprofen (advil, motrin ib, others) to help with the discomfort and swelling of sunburn. ',\n",
              " '1) for pain, take over-the-counter medication such as acetaminophen (tylenol) or ibuprofen (advil, motrin). for swelling, apply an ice pack to the scrotum. ',\n",
              " '1) relieve or prevent dizziness. have the person lie down and rest, 2) keep the person safe. help the person avoid falls, 3) call a health care provider. any new signs and symptoms of vertigo should be checked by a health care provider.',\n",
              " '1) first aid actions to manage external bleeding include applying direct pressure to the wound, maintaining the pressure using pads and bandages, and, raising the injured limb above the level of the heart if possible. ',\n",
              " '1) do not rub the eye, 2)blink several times and allow tears to flush out the particle, 3) lift the upper eyelid over the lashes of your lower lid to let the eyelashes try to brush the particle out., 4) use eyewash, saline solution or running tap water to flush the eye out ',\n",
              " \"1) rinsed with water · flush the area for at least 20 minutes. · as you flush the area, take off any clothing or jewellery that has the chemical on it ,2) don't use a strong stream of water, if possible., 3)don't try to neutralize the burn with acid or alkali. this could cause a chemical reaction that worsens the burn, 4) don't put antibiotic ointment on the burn. \",\n",
              " '1) get to fresh air right away. call the toll-free poison help line (1-800-222-1222), which connects you to your local poison center, 2) take off any clothing the poison touched. rinse skin with running water for 15 to 20 minutes. call the toll-free poison help line (1-800-222-1222), which connects you to your local poison center.,3) if the person swallowed the wrong medicine or too much medicine: call poison help (1-800-222-1222), which connects you to your local poison center.,4) every poisoning is different. ',\n",
              " \"1) lick the tooth clean if it's dirty, or rinse it in water. put it back into position (adult teeth only); never try to re-insert a baby tooth (see below) bite on a handkerchief to hold the tooth in place. go to see a dentist as an emergency \",\n",
              " '1) stay calm and remain with the person, 2) if they have food or fluid in their mouth, roll them onto their side immediately, 3) place something soft under their head and loosen any tight clothing. ',\n",
              " \"1) apply firm pressure to the wound with sterile gauze or a clean cloth. but don't apply direct pressure to the wound if you suspect a skull fracture. \",\n",
              " \"1) lie down or sit down. to reduce the chance of fainting again, don't get up too quickly, 2) place your head between your knees if you sit down, 3)position the person on his or her back. if there are no injuries and the person is breathing, raise the person's legs above heart level — about 12 inches (30 centimeters) — if possible. loosen belts, collars or other constrictive clothing. \",\n",
              " 'give ibuprofen (advil, motrin), aspirin, or acetaminophen (tylenol) for pain. avoid ibuprofen and other nsaids if the person has heart failure or kidney failure. do not give aspirin to a child under age 18.',\n",
              " \"1)keeping hydrated is absolutely vital to help 'flush' out the cold, as well as to break down congestion and keep your throat lubricated. 2)vitamin c is extremely helpful when fighting infection, so at the first sign of a cold be sure to increase your intake by eating plenty of berries, citrus fruits, papayas, broccoli and red peppers which will help keep you protected. 3)when it comes to combating a cold,vitamin d is essential in helping to regulate immune response.\",\n",
              " '1)olive oil helps in healing and promotes skin renewal given it is packed with vitamin e and antioxidants. it also soothes the skin and reduces itching. 2)baking soda is useful in drying skin rashes as also in relieving itching and inflammation. 3)aloe vera,thanks to its antibacterial, antifungal, anti-inflammatory and emollient properties, aloe vera is excellent for treating a number of skin ailments including rashes as also soothing the skin.',\n",
              " 'while waiting for medical help: 1)move the person beyond striking distance of the snake. 2)have the person lie down with wound below the heart. 3)keep the person calm and at rest, remaining as still as possible to keep venom from spreading. 4)cover the wound with loose, sterile bandage. 5)remove any jewelry from the area that was bitten. 6)remove shoes if the leg or foot was bitten.',\n",
              " '1)wash the wound with soap and warm water. 2)gently press a clean cloth over the wound to stop the flow of blood. 3)apply an antibacterial ointment to the wound. 4)cover with a sterile bandage. 5)watch for signs of infection. 6)seek help if you suspect infection or possible exposure to rabies, or if the wound is severe.',\n",
              " \"1)place your ear next to the person's mouth and nose. do you feel air on your cheek? 2)look to see if the person's chest is moving.if the person is not breathing, check pulse. 3)check the person's pulse for 10 seconds.if there is no pulse, start cpr.\",\n",
              " '1)for an adult or child, place the heel of one hand on the center of the chest at the nipple line. you can also push with one hand on top of the other. for an infant, place two fingers on the breastbone. 2)for an adult or child, press down at least 2 inches. make sure not to press on ribs. for an infant, press down about 1 and 1/2 inches. make sure not to press on the end of the breastbone. 3)do chest compressions only, at the rate of 100-120 per minute or more. let the chest rise completely between pushes. 4)check to see if the person has started breathing.',\n",
              " \"1)stop any bleeding. apply pressure to the wound with a sterile bandage, a clean cloth or a clean piece of clothing. 2)immobilize the injured area. don't try to realign the bone or push a bone that's sticking out back in. if you've been trained in how to splint and professional help isn't readily available, apply a splint to the area above and below the fracture sites. padding the splints can help reduce discomfort. 3)apply ice packs to limit swelling and help relieve pain. don't apply ice directly to the skin. wrap the ice in a towel, piece of cloth or some other material. 4)treat for shock. if the person feels faint or is breathing in short, rapid breaths, lay the person down with the head slightly lower than the trunk and, if possible, elevate the legs.\"]"
            ]
          },
          "metadata": {},
          "execution_count": 5
        }
      ]
    },
    {
      "cell_type": "code",
      "source": [
        "vectorizer = TfidfVectorizer()\n",
        "X = vectorizer.fit_transform(patterns)"
      ],
      "metadata": {
        "id": "EDU9lRyIRv04"
      },
      "execution_count": 6,
      "outputs": []
    },
    {
      "cell_type": "code",
      "source": [
        "# Train model\n",
        "model = MultinomialNB()\n",
        "model.fit(X, answers)"
      ],
      "metadata": {
        "colab": {
          "base_uri": "https://localhost:8080/",
          "height": 75
        },
        "id": "N-fVleXiV-Xb",
        "outputId": "637d03fb-83a8-4d9a-e11e-d552587aebf5"
      },
      "execution_count": 7,
      "outputs": [
        {
          "output_type": "execute_result",
          "data": {
            "text/plain": [
              "MultinomialNB()"
            ],
            "text/html": [
              "<style>#sk-container-id-1 {color: black;background-color: white;}#sk-container-id-1 pre{padding: 0;}#sk-container-id-1 div.sk-toggleable {background-color: white;}#sk-container-id-1 label.sk-toggleable__label {cursor: pointer;display: block;width: 100%;margin-bottom: 0;padding: 0.3em;box-sizing: border-box;text-align: center;}#sk-container-id-1 label.sk-toggleable__label-arrow:before {content: \"▸\";float: left;margin-right: 0.25em;color: #696969;}#sk-container-id-1 label.sk-toggleable__label-arrow:hover:before {color: black;}#sk-container-id-1 div.sk-estimator:hover label.sk-toggleable__label-arrow:before {color: black;}#sk-container-id-1 div.sk-toggleable__content {max-height: 0;max-width: 0;overflow: hidden;text-align: left;background-color: #f0f8ff;}#sk-container-id-1 div.sk-toggleable__content pre {margin: 0.2em;color: black;border-radius: 0.25em;background-color: #f0f8ff;}#sk-container-id-1 input.sk-toggleable__control:checked~div.sk-toggleable__content {max-height: 200px;max-width: 100%;overflow: auto;}#sk-container-id-1 input.sk-toggleable__control:checked~label.sk-toggleable__label-arrow:before {content: \"▾\";}#sk-container-id-1 div.sk-estimator input.sk-toggleable__control:checked~label.sk-toggleable__label {background-color: #d4ebff;}#sk-container-id-1 div.sk-label input.sk-toggleable__control:checked~label.sk-toggleable__label {background-color: #d4ebff;}#sk-container-id-1 input.sk-hidden--visually {border: 0;clip: rect(1px 1px 1px 1px);clip: rect(1px, 1px, 1px, 1px);height: 1px;margin: -1px;overflow: hidden;padding: 0;position: absolute;width: 1px;}#sk-container-id-1 div.sk-estimator {font-family: monospace;background-color: #f0f8ff;border: 1px dotted black;border-radius: 0.25em;box-sizing: border-box;margin-bottom: 0.5em;}#sk-container-id-1 div.sk-estimator:hover {background-color: #d4ebff;}#sk-container-id-1 div.sk-parallel-item::after {content: \"\";width: 100%;border-bottom: 1px solid gray;flex-grow: 1;}#sk-container-id-1 div.sk-label:hover label.sk-toggleable__label {background-color: #d4ebff;}#sk-container-id-1 div.sk-serial::before {content: \"\";position: absolute;border-left: 1px solid gray;box-sizing: border-box;top: 0;bottom: 0;left: 50%;z-index: 0;}#sk-container-id-1 div.sk-serial {display: flex;flex-direction: column;align-items: center;background-color: white;padding-right: 0.2em;padding-left: 0.2em;position: relative;}#sk-container-id-1 div.sk-item {position: relative;z-index: 1;}#sk-container-id-1 div.sk-parallel {display: flex;align-items: stretch;justify-content: center;background-color: white;position: relative;}#sk-container-id-1 div.sk-item::before, #sk-container-id-1 div.sk-parallel-item::before {content: \"\";position: absolute;border-left: 1px solid gray;box-sizing: border-box;top: 0;bottom: 0;left: 50%;z-index: -1;}#sk-container-id-1 div.sk-parallel-item {display: flex;flex-direction: column;z-index: 1;position: relative;background-color: white;}#sk-container-id-1 div.sk-parallel-item:first-child::after {align-self: flex-end;width: 50%;}#sk-container-id-1 div.sk-parallel-item:last-child::after {align-self: flex-start;width: 50%;}#sk-container-id-1 div.sk-parallel-item:only-child::after {width: 0;}#sk-container-id-1 div.sk-dashed-wrapped {border: 1px dashed gray;margin: 0 0.4em 0.5em 0.4em;box-sizing: border-box;padding-bottom: 0.4em;background-color: white;}#sk-container-id-1 div.sk-label label {font-family: monospace;font-weight: bold;display: inline-block;line-height: 1.2em;}#sk-container-id-1 div.sk-label-container {text-align: center;}#sk-container-id-1 div.sk-container {/* jupyter's `normalize.less` sets `[hidden] { display: none; }` but bootstrap.min.css set `[hidden] { display: none !important; }` so we also need the `!important` here to be able to override the default hidden behavior on the sphinx rendered scikit-learn.org. See: https://github.com/scikit-learn/scikit-learn/issues/21755 */display: inline-block !important;position: relative;}#sk-container-id-1 div.sk-text-repr-fallback {display: none;}</style><div id=\"sk-container-id-1\" class=\"sk-top-container\"><div class=\"sk-text-repr-fallback\"><pre>MultinomialNB()</pre><b>In a Jupyter environment, please rerun this cell to show the HTML representation or trust the notebook. <br />On GitHub, the HTML representation is unable to render, please try loading this page with nbviewer.org.</b></div><div class=\"sk-container\" hidden><div class=\"sk-item\"><div class=\"sk-estimator sk-toggleable\"><input class=\"sk-toggleable__control sk-hidden--visually\" id=\"sk-estimator-id-1\" type=\"checkbox\" checked><label for=\"sk-estimator-id-1\" class=\"sk-toggleable__label sk-toggleable__label-arrow\">MultinomialNB</label><div class=\"sk-toggleable__content\"><pre>MultinomialNB()</pre></div></div></div></div></div>"
            ]
          },
          "metadata": {},
          "execution_count": 7
        }
      ]
    },
    {
      "cell_type": "code",
      "source": [
        "def get_best_answer(question):\n",
        "    question_vector = vectorizer.transform([question])\n",
        "    similarities = cosine_similarity(question_vector, X)\n",
        "    best_index = np.argmax(similarities)\n",
        "    return answers [best_index]"
      ],
      "metadata": {
        "id": "ULufa3e6Rz-a"
      },
      "execution_count": 11,
      "outputs": []
    },
    {
      "cell_type": "code",
      "source": [
        "test_question = input(\"Enter your query =\")"
      ],
      "metadata": {
        "colab": {
          "base_uri": "https://localhost:8080/"
        },
        "id": "Xxotgw6xR5qZ",
        "outputId": "ff6f195f-b32c-4122-ceef-5a8cc8b49f74"
      },
      "execution_count": 13,
      "outputs": [
        {
          "name": "stdout",
          "output_type": "stream",
          "text": [
            "Enter your query =how to cure cough\n"
          ]
        }
      ]
    },
    {
      "cell_type": "code",
      "source": [
        "predicted_answer = get_best_answer(test_question)\n",
        "print(\"User: \", test_question)\n",
        "print(\"Chatbot: \", predicted_answer)"
      ],
      "metadata": {
        "colab": {
          "base_uri": "https://localhost:8080/"
        },
        "id": "ZwY19LGDWMsN",
        "outputId": "796786d9-1674-49b3-a6dd-c5739a9ed3a6"
      },
      "execution_count": 14,
      "outputs": [
        {
          "output_type": "stream",
          "name": "stdout",
          "text": [
            "User:  how to cure cough\n",
            "Chatbot:  1) honey:- use honey to treat a cough, mix 2 teaspoons (tsp) with warm water or an herbal tea. drink this mixture once or twice a day. do not give honey to children under 1 year of age. 2) ginger:- brew up a soothing ginger tea by adding 20–40 grams (g) of fresh ginger slices to a cup of hot water. allow to steep for a few minutes before drinking. add honey or lemon juice to improve the taste and further soothe a cough. 3) fluids:- staying hydrated is vital for those with a cough or cold. research indicates that drinking liquids at room temperature can alleviate a cough, runny nose, and sneezing.\n"
          ]
        }
      ]
    },
    {
      "cell_type": "code",
      "source": [
        "predicted_answers = model.predict(X)\n",
        "accuracy = accuracy_score(answers, predicted_answers)\n",
        "print(\"Accuracy: {:.2f}%\".format(accuracy * 100))"
      ],
      "metadata": {
        "colab": {
          "base_uri": "https://localhost:8080/"
        },
        "id": "NAmAG-nUR2Kq",
        "outputId": "9f2ca93c-7522-4b9f-cead-7328ee3a4ea5"
      },
      "execution_count": 16,
      "outputs": [
        {
          "output_type": "stream",
          "name": "stdout",
          "text": [
            "Accuracy: 100.00%\n"
          ]
        }
      ]
    },
    {
      "cell_type": "code",
      "source": [
        "import pickle\n",
        "with open('naive_bayes_classifier.pickle', 'wb') as f:\n",
        "    pickle.dump(model, f)\n",
        "\n",
        "with open('tfidf_vectorizer.pickle', 'wb') as f:\n",
        "    pickle.dump(vectorizer, f)"
      ],
      "metadata": {
        "id": "dwg21ljESVGm"
      },
      "execution_count": 17,
      "outputs": []
    },
    {
      "cell_type": "code",
      "source": [],
      "metadata": {
        "id": "2GEEvfqmWnBt"
      },
      "execution_count": null,
      "outputs": []
    }
  ]
}